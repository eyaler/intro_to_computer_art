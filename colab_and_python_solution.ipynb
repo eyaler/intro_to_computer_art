{
  "nbformat": 4,
  "nbformat_minor": 0,
  "metadata": {
    "colab": {
      "name": "colab_and_python",
      "private_outputs": true,
      "provenance": [],
      "authorship_tag": "ABX9TyPXQEboU5vwJcRFOPT6hN0l",
      "include_colab_link": true
    },
    "kernelspec": {
      "name": "python3",
      "display_name": "Python 3"
    },
    "language_info": {
      "name": "python"
    }
  },
  "cells": [
    {
      "cell_type": "markdown",
      "metadata": {
        "id": "view-in-github",
        "colab_type": "text"
      },
      "source": [
        "<a href=\"https://colab.research.google.com/github/eyaler/intro_to_computer_art/blob/main/colab_and_python_solution.ipynb\" target=\"_parent\"><img src=\"https://colab.research.google.com/assets/colab-badge.svg\" alt=\"Open In Colab\"/></a>"
      ]
    },
    {
      "cell_type": "markdown",
      "metadata": {
        "id": "hlhnEABRHr_d"
      },
      "source": [
        "Dealing with issues:\n",
        "1. If the colab is stuck try any of the following:\n",
        "* Make sure you are connected to the internet\n",
        "* Make sure you are logged in to a google account\n",
        "* Runtime (top menu) -> Restart runtime\n",
        "* Runtime (top menu) -> Factory reset runtime\n",
        "* Ctrl+F5 (on Mac: Shift+Cmd+R) (you will lose any unsaved work)\n",
        "* Close and reopen the tab (you will lose any unsaved work)\n",
        "* Close and reopen the browser (you will lose any unsaved work)\n",
        "* Press the small drop-down arrow on the top right (left of Editing) and click Connect to a hosted runtime\n",
        "* If you are not using a latest chrome or firefox please try using one of them\n",
        "* Try to disable any add-ons changing web content, e.g. auto-translators, aggressive ad-blockers, javascript blockers, privacy add-ons, etc. If you are not sure you can try a fresh install of the browser (or a different browser)\n",
        "* Try another computer?\n",
        "2. If you hit a \"Too many sessions\" error, select Manage session from the pop up or from the top menu Runtime -> Manage sessions, and click Terminate other sessions on the bottom left. Note that just closing the tab may not be enough.\n",
        "3. If you are opening a notebook shared by someone else, and you want to save it you need to click Copy to Drive (just below the runtime menu)\n",
        "4. If you get a \"Syntax Error\" when running code, this means you wrote something wrong. Go back to the original notebook shared with you by refeshing the tab or reopening the link. Make sure you are following the same usage of spaces, newline, letter case, punctuation, etc.\n",
        "5. If you still have issues try to Google it!"
      ]
    },
    {
      "cell_type": "markdown",
      "metadata": {
        "id": "40GaPZ16Hj0c"
      },
      "source": [
        "Printing and strings"
      ]
    },
    {
      "cell_type": "code",
      "metadata": {
        "id": "2-o0y7zkq0SE"
      },
      "source": [
        "print(\"hello world!\")  # Hi! This is a comment. everything after the # symbol is ignored"
      ],
      "execution_count": null,
      "outputs": []
    },
    {
      "cell_type": "code",
      "metadata": {
        "id": "vJIZBhLJHF_v"
      },
      "source": [
        "print(\"to print a string you need to engulf them in quotation marks\")"
      ],
      "execution_count": null,
      "outputs": []
    },
    {
      "cell_type": "code",
      "metadata": {
        "id": "0UKZNTSCHWJk"
      },
      "source": [
        "print('you can use either single of double quotes')"
      ],
      "execution_count": null,
      "outputs": []
    },
    {
      "cell_type": "code",
      "metadata": {
        "id": "jypG_nZBHeST"
      },
      "source": [
        "print(\"Eyal Gruss\")  # <- so please change that string in the print to your name"
      ],
      "execution_count": null,
      "outputs": []
    },
    {
      "cell_type": "markdown",
      "metadata": {
        "id": "97vzyLfrOogh"
      },
      "source": [
        "Variables and assignment statements"
      ]
    },
    {
      "cell_type": "code",
      "metadata": {
        "id": "ZUY02-IIOkoB"
      },
      "source": [
        "x = 5  # x is a variable and we assign to it the number 5\n",
        "print(x)  #  will print the value stored in x which is now 5 (note we are not using quotation marks here - otherwise we would just get the letter x instead of its value 5)"
      ],
      "execution_count": null,
      "outputs": []
    },
    {
      "cell_type": "code",
      "metadata": {
        "id": "7BrMhElSPWeZ"
      },
      "source": [
        "x = 100   # <- change the value assign to x to 100 and make sure it is printed out\n",
        "print(x)"
      ],
      "execution_count": null,
      "outputs": []
    },
    {
      "cell_type": "markdown",
      "metadata": {
        "id": "8lruO6mdPnfX"
      },
      "source": [
        "Arithmetic expressions "
      ]
    },
    {
      "cell_type": "code",
      "metadata": {
        "id": "9MOhWuTqPmx9"
      },
      "source": [
        "y = 5 + 5   # this will compute 5+5 and assign the result 10 in y\n",
        "print(y)"
      ],
      "execution_count": null,
      "outputs": []
    },
    {
      "cell_type": "code",
      "metadata": {
        "id": "eyR8oJnCQKrw"
      },
      "source": [
        "y = x * 10  # if you changed x to 100 above than y will be 100*10 = 1000\n",
        "print(y)"
      ],
      "execution_count": null,
      "outputs": []
    },
    {
      "cell_type": "code",
      "metadata": {
        "id": "bJR0lG2LQMNV"
      },
      "source": [
        "y = y - 2   # this will subtract 2 from the last value in y and assing the result to y. try to think would should be the result before running this\n",
        "print(y)"
      ],
      "execution_count": null,
      "outputs": []
    },
    {
      "cell_type": "markdown",
      "metadata": {
        "id": "VVALOuF2QjMd"
      },
      "source": [
        "Lists"
      ]
    },
    {
      "cell_type": "code",
      "metadata": {
        "id": "XMogIjBxQiYc"
      },
      "source": [
        "mylist = [6, 2, 10, 56]  # variables can also be words (no spaces). there some resreved keywords which you can not use, specifically you should use \"list\". we assign the variable mylist with a list of numbers which is denoted by the square brackets [] and items are seperated with commas\n",
        "print(mylist)"
      ],
      "execution_count": null,
      "outputs": []
    },
    {
      "cell_type": "markdown",
      "metadata": {
        "id": "X9aZJaG6RQ-d"
      },
      "source": [
        "Loops\n"
      ]
    },
    {
      "cell_type": "code",
      "metadata": {
        "id": "shnu2Q6MRQP0"
      },
      "source": [
        "for i in range(50):  # this is a loop. \"i\" is our variable name. the loop will run 50 times, and i will be assign the values 0,1,2,...,49 as the iterations go on. not the colon : ending the line\n",
        "  print(i)  # the statements that are inside the loop (note the 2-space identation starting the line), will run in each iteration of the loop."
      ],
      "execution_count": null,
      "outputs": []
    },
    {
      "cell_type": "code",
      "metadata": {
        "id": "USV9ltDJS5le"
      },
      "source": [
        "# ok now write your own loop having 20 iterations. and printing your name in each iteration\n",
        "for i in range(20):\n",
        "  print('Eyal Gruss')\n"
      ],
      "execution_count": null,
      "outputs": []
    },
    {
      "cell_type": "code",
      "metadata": {
        "id": "Ce-PCM5uTcGu"
      },
      "source": [
        "# ok now write a loop to print all even numbers between 0 and 30. good luck!\n",
        "for j in range(16):\n",
        "  print(j*2)\n"
      ],
      "execution_count": null,
      "outputs": []
    }
  ]
}