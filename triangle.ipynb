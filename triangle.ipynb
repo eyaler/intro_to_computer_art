{
  "nbformat": 4,
  "nbformat_minor": 0,
  "metadata": {
    "colab": {
      "name": "triangle",
      "provenance": [],
      "collapsed_sections": [],
      "include_colab_link": true
    },
    "kernelspec": {
      "name": "python3",
      "display_name": "Python 3"
    }
  },
  "cells": [
    {
      "cell_type": "markdown",
      "metadata": {
        "id": "view-in-github",
        "colab_type": "text"
      },
      "source": [
        "<a href=\"https://colab.research.google.com/github/eyaler/intro_to_computer_art/blob/main/triangle.ipynb\" target=\"_parent\"><img src=\"https://colab.research.google.com/assets/colab-badge.svg\" alt=\"Open In Colab\"/></a>"
      ]
    },
    {
      "cell_type": "code",
      "metadata": {
        "id": "ZPvFmqADNs-H"
      },
      "source": [
        "from google.colab.patches import cv2_imshow\n",
        "from numpy import ones\n",
        "from random import choice"
      ],
      "execution_count": 2,
      "outputs": []
    },
    {
      "cell_type": "code",
      "metadata": {
        "id": "9BNQ1QCIexYF",
        "colab": {
          "base_uri": "https://localhost:8080/",
          "height": 517
        },
        "outputId": "e74a2110-d4b1-4e05-9404-dfe1ae070ab5"
      },
      "source": [
        "canvas = ones([500, 500]) * 255\n",
        "\n",
        "a = [0, 0]\n",
        "b = [500, 0]\n",
        "c = [250, 500]\n",
        "\n",
        "x = 0\n",
        "y = 0\n",
        "\n",
        "for i in range(1000000):\n",
        "  \n",
        "    [corner_x, corner_y] = choice([a, b, c])\n",
        "  \n",
        "    x = (x + corner_x) // 2\n",
        "  \n",
        "    y = (y + corner_y) // 2\n",
        "  \n",
        "    canvas[y, x] = 0\n",
        "\n",
        "cv2_imshow(canvas)"
      ],
      "execution_count": 4,
      "outputs": [
        {
          "output_type": "display_data",
          "data": {
            "image/png": "[encoded data removed]",
            "text/plain": [
              "<PIL.Image.Image image mode=L size=500x500 at 0x7F60DBFE3B50>"
            ]
          },
          "metadata": {}
        }
      ]
    }
  ]
}